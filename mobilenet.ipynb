{
 "cells": [
  {
   "cell_type": "markdown",
   "metadata": {},
   "source": [
    "## IMPORTING LIBARIRES:"
   ]
  },
  {
   "cell_type": "code",
   "execution_count": 2,
   "metadata": {},
   "outputs": [],
   "source": [
    "import numpy as np\n",
    "import pandas as pd\n",
    "import matplotlib.pyplot as plt\n",
    "import seaborn as sns\n",
    "import cv2\n",
    "import os, glob\n",
    "import tensorflow as tf\n",
    "from sklearn.metrics import confusion_matrix\n",
    "from sklearn.model_selection import train_test_split\n",
    "from keras.models import Model, Sequential, load_model\n",
    "from keras.layers import Dense, Dropout, Flatten, Conv2D, MaxPool2D, BatchNormalization, AveragePooling2D,GlobalAveragePooling2D,Input\n",
    "from tensorflow.keras.optimizers import Adam\n",
    "from keras.preprocessing.image import ImageDataGenerator\n",
    "import warnings\n",
    "warnings.filterwarnings(\"ignore\",category=DeprecationWarning)"
   ]
  },
  {
   "cell_type": "markdown",
   "metadata": {},
   "source": [
    "## Data Loading:"
   ]
  },
  {
   "cell_type": "code",
   "execution_count": 3,
   "metadata": {},
   "outputs": [
    {
     "name": "stdout",
     "output_type": "stream",
     "text": [
      "['fake', 'real']\n",
      "2\n"
     ]
    }
   ],
   "source": [
    "data_dir = r\"data\\train\"\n",
    "leaf=[]\n",
    "for file in os.listdir(data_dir):\n",
    "    leaf+=[file]\n",
    "print(leaf)\n",
    "print(len(leaf))"
   ]
  },
  {
   "cell_type": "markdown",
   "metadata": {},
   "source": [
    "## PREPROCESSING:"
   ]
  },
  {
   "cell_type": "code",
   "execution_count": 4,
   "metadata": {},
   "outputs": [
    {
     "name": "stdout",
     "output_type": "stream",
     "text": [
      "Found 348 images belonging to 2 classes.\n",
      "Found 148 images belonging to 2 classes.\n"
     ]
    }
   ],
   "source": [
    "img_height,img_width=256,256\n",
    "batch_size=20\n",
    "\n",
    "train_datagen = ImageDataGenerator(rescale=1./255,validation_split=0.3)\n",
    "train_generator = train_datagen.flow_from_directory(data_dir,\n",
    "                                                target_size=(img_height,img_width),\n",
    "                                                batch_size=batch_size,\n",
    "                                                class_mode='categorical',\n",
    "                                                subset='training')\n",
    "test_generator = train_datagen.flow_from_directory(data_dir,\n",
    "                                                target_size=(img_height,img_width),\n",
    "                                                batch_size=batch_size,\n",
    "                                                class_mode='categorical',\n",
    "                                                subset='validation')"
   ]
  },
  {
   "cell_type": "markdown",
   "metadata": {},
   "source": [
    "## MOBILENET ALGORITHM:"
   ]
  },
  {
   "cell_type": "code",
   "execution_count": 5,
   "metadata": {},
   "outputs": [
    {
     "name": "stdout",
     "output_type": "stream",
     "text": [
      "WARNING:tensorflow:`input_shape` is undefined or non-square, or `rows` is not in [128, 160, 192, 224]. Weights for input shape (224, 224) will be loaded as the default.\n",
      "WARNING:tensorflow:From C:\\Users\\0618\\AppData\\Roaming\\Python\\Python310\\site-packages\\keras\\src\\backend.py:1398: The name tf.executing_eagerly_outside_functions is deprecated. Please use tf.compat.v1.executing_eagerly_outside_functions instead.\n",
      "\n",
      "WARNING:tensorflow:From C:\\Users\\0618\\AppData\\Roaming\\Python\\Python310\\site-packages\\keras\\src\\layers\\normalization\\batch_normalization.py:979: The name tf.nn.fused_batch_norm is deprecated. Please use tf.compat.v1.nn.fused_batch_norm instead.\n",
      "\n",
      "Model: \"sequential\"\n",
      "_________________________________________________________________\n",
      " Layer (type)                Output Shape              Param #   \n",
      "=================================================================\n",
      " mobilenet_1.00_224 (Functi  (None, 8, 8, 1024)        3228864   \n",
      " onal)                                                           \n",
      "                                                                 \n",
      " global_average_pooling2d (  (None, 1024)              0         \n",
      " GlobalAveragePooling2D)                                         \n",
      "                                                                 \n",
      " dense (Dense)               (None, 64)                65600     \n",
      "                                                                 \n",
      " batch_normalization (Batch  (None, 64)                256       \n",
      " Normalization)                                                  \n",
      "                                                                 \n",
      " dropout (Dropout)           (None, 64)                0         \n",
      "                                                                 \n",
      " dense_1 (Dense)             (None, 2)                 130       \n",
      "                                                                 \n",
      "=================================================================\n",
      "Total params: 3294850 (12.57 MB)\n",
      "Trainable params: 3272834 (12.48 MB)\n",
      "Non-trainable params: 22016 (86.00 KB)\n",
      "_________________________________________________________________\n"
     ]
    }
   ],
   "source": [
    "base_model = tf.keras.applications.MobileNet(input_shape=(img_height,img_width, 3), include_top=False,\n",
    "                          weights='imagenet')\n",
    "model1 = Sequential()\n",
    "model1.add(base_model)\n",
    "model1.add(GlobalAveragePooling2D())\n",
    "model1.add(Dense(64, activation='relu'))\n",
    "model1.add(BatchNormalization())\n",
    "model1.add(Dropout(0.2))\n",
    "model1.add(Dense(2, activation='sigmoid'))\n",
    "model1.summary()"
   ]
  },
  {
   "cell_type": "code",
   "execution_count": 6,
   "metadata": {},
   "outputs": [
    {
     "name": "stdout",
     "output_type": "stream",
     "text": [
      "WARNING:tensorflow:From C:\\Users\\0618\\AppData\\Roaming\\Python\\Python310\\site-packages\\keras\\src\\optimizers\\__init__.py:309: The name tf.train.Optimizer is deprecated. Please use tf.compat.v1.train.Optimizer instead.\n",
      "\n"
     ]
    },
    {
     "name": "stderr",
     "output_type": "stream",
     "text": [
      "C:\\Users\\0618\\AppData\\Local\\Temp\\ipykernel_13224\\4244930103.py:2: UserWarning: `Model.fit_generator` is deprecated and will be removed in a future version. Please use `Model.fit`, which supports generators.\n",
      "  hist1=model1.fit_generator(train_generator,epochs=20,validation_data=test_generator,verbose=1)\n"
     ]
    },
    {
     "name": "stdout",
     "output_type": "stream",
     "text": [
      "Epoch 1/20\n",
      "WARNING:tensorflow:From C:\\Users\\0618\\AppData\\Roaming\\Python\\Python310\\site-packages\\keras\\src\\utils\\tf_utils.py:492: The name tf.ragged.RaggedTensorValue is deprecated. Please use tf.compat.v1.ragged.RaggedTensorValue instead.\n",
      "\n",
      "WARNING:tensorflow:From C:\\Users\\0618\\AppData\\Roaming\\Python\\Python310\\site-packages\\keras\\src\\engine\\base_layer_utils.py:384: The name tf.executing_eagerly_outside_functions is deprecated. Please use tf.compat.v1.executing_eagerly_outside_functions instead.\n",
      "\n",
      "18/18 [==============================] - 64s 3s/step - loss: 0.3583 - accuracy: 0.8592 - val_loss: 6.3549 - val_accuracy: 0.5135\n",
      "Epoch 2/20\n",
      "18/18 [==============================] - 43s 2s/step - loss: 0.0689 - accuracy: 0.9856 - val_loss: 5.3538 - val_accuracy: 0.5135\n",
      "Epoch 3/20\n",
      "18/18 [==============================] - 41s 2s/step - loss: 0.0449 - accuracy: 0.9885 - val_loss: 3.7804 - val_accuracy: 0.5135\n",
      "Epoch 4/20\n",
      "18/18 [==============================] - 44s 2s/step - loss: 0.0459 - accuracy: 0.9856 - val_loss: 1.9382 - val_accuracy: 0.5811\n",
      "Epoch 5/20\n",
      "18/18 [==============================] - 42s 2s/step - loss: 0.0539 - accuracy: 0.9799 - val_loss: 2.0290 - val_accuracy: 0.5676\n",
      "Epoch 6/20\n",
      "18/18 [==============================] - 43s 2s/step - loss: 0.0509 - accuracy: 0.9799 - val_loss: 0.6100 - val_accuracy: 0.7568\n",
      "Epoch 7/20\n",
      "18/18 [==============================] - 42s 2s/step - loss: 0.0429 - accuracy: 0.9914 - val_loss: 1.3625 - val_accuracy: 0.7635\n",
      "Epoch 8/20\n",
      "18/18 [==============================] - 46s 3s/step - loss: 0.0118 - accuracy: 1.0000 - val_loss: 0.3855 - val_accuracy: 0.8378\n",
      "Epoch 9/20\n",
      "18/18 [==============================] - 43s 2s/step - loss: 0.0091 - accuracy: 0.9971 - val_loss: 3.2764 - val_accuracy: 0.6824\n",
      "Epoch 10/20\n",
      "18/18 [==============================] - 43s 2s/step - loss: 0.0019 - accuracy: 1.0000 - val_loss: 2.5086 - val_accuracy: 0.7027\n",
      "Epoch 11/20\n",
      "18/18 [==============================] - 42s 2s/step - loss: 0.0291 - accuracy: 0.9914 - val_loss: 0.5065 - val_accuracy: 0.7297\n",
      "Epoch 12/20\n",
      "18/18 [==============================] - 46s 3s/step - loss: 0.0284 - accuracy: 0.9885 - val_loss: 3.2115 - val_accuracy: 0.5676\n",
      "Epoch 13/20\n",
      "18/18 [==============================] - 48s 3s/step - loss: 0.0567 - accuracy: 0.9856 - val_loss: 0.3805 - val_accuracy: 0.9459\n",
      "Epoch 14/20\n",
      "18/18 [==============================] - 49s 3s/step - loss: 0.0373 - accuracy: 0.9799 - val_loss: 2.4392 - val_accuracy: 0.5541\n",
      "Epoch 15/20\n",
      "18/18 [==============================] - 53s 3s/step - loss: 0.1440 - accuracy: 0.9425 - val_loss: 0.3025 - val_accuracy: 0.8784\n",
      "Epoch 16/20\n",
      "18/18 [==============================] - 52s 3s/step - loss: 0.1010 - accuracy: 0.9569 - val_loss: 1.7686 - val_accuracy: 0.6149\n",
      "Epoch 17/20\n",
      "18/18 [==============================] - 60s 3s/step - loss: 0.0913 - accuracy: 0.9684 - val_loss: 2.9691 - val_accuracy: 0.5541\n",
      "Epoch 18/20\n",
      "18/18 [==============================] - 56s 3s/step - loss: 0.0139 - accuracy: 0.9971 - val_loss: 2.2012 - val_accuracy: 0.6014\n",
      "Epoch 19/20\n",
      "18/18 [==============================] - 52s 3s/step - loss: 0.0208 - accuracy: 0.9971 - val_loss: 1.4068 - val_accuracy: 0.7297\n",
      "Epoch 20/20\n",
      "18/18 [==============================] - 54s 3s/step - loss: 0.0298 - accuracy: 0.9914 - val_loss: 1.1671 - val_accuracy: 0.7838\n"
     ]
    }
   ],
   "source": [
    "model1.compile(optimizer='Adam',loss=\"categorical_crossentropy\",metrics=[\"accuracy\"])\n",
    "hist1=model1.fit_generator(train_generator,epochs=20,validation_data=test_generator,verbose=1)"
   ]
  },
  {
   "cell_type": "markdown",
   "metadata": {},
   "source": [
    "## GARPH:"
   ]
  },
  {
   "cell_type": "code",
   "execution_count": 7,
   "metadata": {},
   "outputs": [
    {
     "ename": "TypeError",
     "evalue": "_process_plot_var_args.__call__() got multiple values for argument 'axes'",
     "output_type": "error",
     "traceback": [
      "\u001b[1;31m---------------------------------------------------------------------------\u001b[0m",
      "\u001b[1;31mTypeError\u001b[0m                                 Traceback (most recent call last)",
      "\u001b[1;32mc:\\Users\\0618\\Documents\\projects\\NOVEMBER\\business\\TK127320 -  Identification of Fake Indian Currency using Convolutional Neural Network\\SOURCE CODE-YMTS-0618\\CODE\\backend\\mobilenet.ipynb Cell 11\u001b[0m line \u001b[0;36m7\n\u001b[0;32m      <a href='vscode-notebook-cell:/c%3A/Users/0618/Documents/projects/NOVEMBER/business/TK127320%20-%20%20Identification%20of%20Fake%20Indian%20Currency%20using%20Convolutional%20Neural%20Network/SOURCE%20CODE-YMTS-0618/CODE/backend/mobilenet.ipynb#X13sZmlsZQ%3D%3D?line=3'>4</a>\u001b[0m legend \u001b[39m=\u001b[39m ax[\u001b[39m0\u001b[39m]\u001b[39m.\u001b[39mlegend(loc\u001b[39m=\u001b[39m\u001b[39m'\u001b[39m\u001b[39mbest\u001b[39m\u001b[39m'\u001b[39m, shadow\u001b[39m=\u001b[39m\u001b[39mTrue\u001b[39;00m)\n\u001b[0;32m      <a href='vscode-notebook-cell:/c%3A/Users/0618/Documents/projects/NOVEMBER/business/TK127320%20-%20%20Identification%20of%20Fake%20Indian%20Currency%20using%20Convolutional%20Neural%20Network/SOURCE%20CODE-YMTS-0618/CODE/backend/mobilenet.ipynb#X13sZmlsZQ%3D%3D?line=5'>6</a>\u001b[0m ax[\u001b[39m1\u001b[39m]\u001b[39m.\u001b[39mplot(hist1\u001b[39m.\u001b[39mhistory[\u001b[39m'\u001b[39m\u001b[39mloss\u001b[39m\u001b[39m'\u001b[39m], color\u001b[39m=\u001b[39m\u001b[39m'\u001b[39m\u001b[39mb\u001b[39m\u001b[39m'\u001b[39m, label\u001b[39m=\u001b[39m\u001b[39m\"\u001b[39m\u001b[39mTraining loss\u001b[39m\u001b[39m\"\u001b[39m)\n\u001b[1;32m----> <a href='vscode-notebook-cell:/c%3A/Users/0618/Documents/projects/NOVEMBER/business/TK127320%20-%20%20Identification%20of%20Fake%20Indian%20Currency%20using%20Convolutional%20Neural%20Network/SOURCE%20CODE-YMTS-0618/CODE/backend/mobilenet.ipynb#X13sZmlsZQ%3D%3D?line=6'>7</a>\u001b[0m ax[\u001b[39m1\u001b[39;49m]\u001b[39m.\u001b[39;49mplot(hist1\u001b[39m.\u001b[39;49mhistory[\u001b[39m'\u001b[39;49m\u001b[39mval_loss\u001b[39;49m\u001b[39m'\u001b[39;49m], color\u001b[39m=\u001b[39;49m\u001b[39m'\u001b[39;49m\u001b[39mr\u001b[39;49m\u001b[39m'\u001b[39;49m, label\u001b[39m=\u001b[39;49m\u001b[39m\"\u001b[39;49m\u001b[39mvalidation loss\u001b[39;49m\u001b[39m\"\u001b[39;49m,axes \u001b[39m=\u001b[39;49max[\u001b[39m1\u001b[39;49m])\n\u001b[0;32m      <a href='vscode-notebook-cell:/c%3A/Users/0618/Documents/projects/NOVEMBER/business/TK127320%20-%20%20Identification%20of%20Fake%20Indian%20Currency%20using%20Convolutional%20Neural%20Network/SOURCE%20CODE-YMTS-0618/CODE/backend/mobilenet.ipynb#X13sZmlsZQ%3D%3D?line=7'>8</a>\u001b[0m legend \u001b[39m=\u001b[39m ax[\u001b[39m1\u001b[39m]\u001b[39m.\u001b[39mlegend(loc\u001b[39m=\u001b[39m\u001b[39m'\u001b[39m\u001b[39mbest\u001b[39m\u001b[39m'\u001b[39m, shadow\u001b[39m=\u001b[39m\u001b[39mTrue\u001b[39;00m)\n",
      "File \u001b[1;32m~\\AppData\\Roaming\\Python\\Python310\\site-packages\\matplotlib\\axes\\_axes.py:1721\u001b[0m, in \u001b[0;36mAxes.plot\u001b[1;34m(self, scalex, scaley, data, *args, **kwargs)\u001b[0m\n\u001b[0;32m   1478\u001b[0m \u001b[39m\u001b[39m\u001b[39m\"\"\"\u001b[39;00m\n\u001b[0;32m   1479\u001b[0m \u001b[39mPlot y versus x as lines and/or markers.\u001b[39;00m\n\u001b[0;32m   1480\u001b[0m \n\u001b[1;32m   (...)\u001b[0m\n\u001b[0;32m   1718\u001b[0m \u001b[39m(``'green'``) or hex strings (``'#008000'``).\u001b[39;00m\n\u001b[0;32m   1719\u001b[0m \u001b[39m\"\"\"\u001b[39;00m\n\u001b[0;32m   1720\u001b[0m kwargs \u001b[39m=\u001b[39m cbook\u001b[39m.\u001b[39mnormalize_kwargs(kwargs, mlines\u001b[39m.\u001b[39mLine2D)\n\u001b[1;32m-> 1721\u001b[0m lines \u001b[39m=\u001b[39m [\u001b[39m*\u001b[39m\u001b[39mself\u001b[39m\u001b[39m.\u001b[39m_get_lines(\u001b[39mself\u001b[39m, \u001b[39m*\u001b[39margs, data\u001b[39m=\u001b[39mdata, \u001b[39m*\u001b[39m\u001b[39m*\u001b[39mkwargs)]\n\u001b[0;32m   1722\u001b[0m \u001b[39mfor\u001b[39;00m line \u001b[39min\u001b[39;00m lines:\n\u001b[0;32m   1723\u001b[0m     \u001b[39mself\u001b[39m\u001b[39m.\u001b[39madd_line(line)\n",
      "\u001b[1;31mTypeError\u001b[0m: _process_plot_var_args.__call__() got multiple values for argument 'axes'"
     ]
    },
    {
     "data": {
      "image/png": "[encoded data removed]",
      "text/plain": [
       "<Figure size 640x480 with 2 Axes>"
      ]
     },
     "metadata": {},
     "output_type": "display_data"
    }
   ],
   "source": [
    "fig, ax = plt.subplots(2,1)\n",
    "ax[0].plot(hist1.history['accuracy'], color='b', label=\"Training accuracy\")\n",
    "ax[0].plot(hist1.history['val_accuracy'], color='r',label=\"Validation accuracy\")\n",
    "legend = ax[0].legend(loc='best', shadow=True)\n",
    "\n",
    "ax[1].plot(hist1.history['loss'], color='b', label=\"Training loss\")\n",
    "ax[1].plot(hist1.history['val_loss'], color='r', label=\"validation loss\",axes =ax[1])\n",
    "legend = ax[1].legend(loc='best', shadow=True)"
   ]
  },
  {
   "cell_type": "markdown",
   "metadata": {},
   "source": [
    "## SAVING MODEL:"
   ]
  },
  {
   "cell_type": "code",
   "execution_count": 8,
   "metadata": {},
   "outputs": [
    {
     "name": "stdout",
     "output_type": "stream",
     "text": [
      "8/8 [==============================] - 7s 755ms/step - loss: 1.1671 - accuracy: 0.7838\n"
     ]
    },
    {
     "name": "stderr",
     "output_type": "stream",
     "text": [
      "C:\\Users\\0618\\AppData\\Roaming\\Python\\Python310\\site-packages\\keras\\src\\engine\\training.py:3103: UserWarning: You are saving your model as an HDF5 file via `model.save()`. This file format is considered legacy. We recommend using instead the native Keras format, e.g. `model.save('my_model.keras')`.\n",
      "  saving_api.save_model(\n"
     ]
    }
   ],
   "source": [
    "model1.evaluate(test_generator)\n",
    "model1.save(\"MobileNet.h5\")"
   ]
  }
 ],
 "metadata": {
  "kernelspec": {
   "display_name": "Python 3",
   "language": "python",
   "name": "python3"
  },
  "language_info": {
   "codemirror_mode": {
    "name": "ipython",
    "version": 3
   },
   "file_extension": ".py",
   "mimetype": "text/x-python",
   "name": "python",
   "nbconvert_exporter": "python",
   "pygments_lexer": "ipython3",
   "version": "3.10.8"
  }
 },
 "nbformat": 4,
 "nbformat_minor": 2
}
